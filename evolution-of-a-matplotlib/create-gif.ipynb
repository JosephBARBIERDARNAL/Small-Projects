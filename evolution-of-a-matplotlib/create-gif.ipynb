{
 "cells": [
  {
   "cell_type": "code",
   "execution_count": 22,
   "metadata": {},
   "outputs": [
    {
     "name": "stdout",
     "output_type": "stream",
     "text": [
      "multiple-linecharts/gif-1.png\n",
      "(2000, 2400, 4)\n",
      "\n",
      "multiple-linecharts/gif-2.png\n",
      "(2000, 2400, 4)\n",
      "\n",
      "multiple-linecharts/gif-3.png\n",
      "(2000, 2400, 4)\n",
      "\n",
      "multiple-linecharts/gif-4.png\n",
      "(2000, 2400, 4)\n",
      "\n",
      "multiple-linecharts/gif-5.png\n",
      "(2000, 2400, 4)\n",
      "\n",
      "multiple-linecharts/gif-6.png\n",
      "(2000, 2400, 4)\n",
      "\n",
      "multiple-linecharts/gif-7.png\n",
      "(2000, 2400, 4)\n",
      "\n",
      "multiple-linecharts/gif-8.png\n",
      "(2000, 2400, 4)\n",
      "\n",
      "multiple-linecharts/gif-9.png\n",
      "(2000, 2400, 4)\n",
      "\n",
      "multiple-linecharts/gif-10.png\n",
      "(2000, 2400, 4)\n",
      "\n",
      "multiple-linecharts/gif-11.png\n",
      "(2000, 2400, 4)\n",
      "\n",
      "GIF created!\n"
     ]
    }
   ],
   "source": [
    "import numpy as np\n",
    "import imageio\n",
    "from PIL import Image\n",
    "\n",
    "path = 'multiple-linecharts'\n",
    "images_filenames = [f'{path}/gif-'+str(i)+'.png' for i in range(1, 20)]\n",
    "images_for_gif = []\n",
    "\n",
    "new_size = (2400, 2000)\n",
    "for filename in images_filenames:\n",
    "    try:\n",
    "        with Image.open(filename) as img:\n",
    "            print(filename)\n",
    "            img = img.resize(new_size)\n",
    "            img_array = np.array(img)\n",
    "            print(img_array.shape)\n",
    "            print()\n",
    "            images_for_gif.append(img_array)\n",
    "    except FileNotFoundError:\n",
    "        pass\n",
    "\n",
    "# Append the last frame 5 more times\n",
    "if images_for_gif:\n",
    "    last_frame = images_for_gif[-1]\n",
    "    for _ in range(10):\n",
    "        images_for_gif.append(last_frame)\n",
    "\n",
    "imageio.mimsave(f'{path}/output.gif', images_for_gif, duration=1200, format='GIF', loop=20)\n",
    "print('GIF created!')"
   ]
  }
 ],
 "metadata": {
  "kernelspec": {
   "display_name": "venv",
   "language": "python",
   "name": "python3"
  },
  "language_info": {
   "codemirror_mode": {
    "name": "ipython",
    "version": 3
   },
   "file_extension": ".py",
   "mimetype": "text/x-python",
   "name": "python",
   "nbconvert_exporter": "python",
   "pygments_lexer": "ipython3",
   "version": "3.10.13"
  },
  "orig_nbformat": 4
 },
 "nbformat": 4,
 "nbformat_minor": 2
}
