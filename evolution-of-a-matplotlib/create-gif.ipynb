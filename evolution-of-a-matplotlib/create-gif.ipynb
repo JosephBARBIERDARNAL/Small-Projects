{
 "cells": [
  {
   "cell_type": "code",
   "execution_count": 20,
   "metadata": {},
   "outputs": [
    {
     "name": "stdout",
     "output_type": "stream",
     "text": [
      "GIF created!\n"
     ]
    }
   ],
   "source": [
    "import numpy as np\n",
    "import imageio\n",
    "from PIL import Image, ImageOps, ImageFile\n",
    "from PIL.Image import Resampling\n",
    "\n",
    "ImageFile.LOAD_TRUNCATED_IMAGES = True\n",
    "\n",
    "path = 'natural-disasters'\n",
    "images_filenames = [f'{path}/stacked-area-'+str(i)+'.png' for i in range(1, 20)]\n",
    "images_for_gif = []\n",
    "\n",
    "new_size = (4200, 2000)\n",
    "\n",
    "def add_background(image, new_size, background_color=(255, 255, 255)):\n",
    "    \"\"\"Adds a background to the image to fit the new size while preserving the aspect ratio.\"\"\"\n",
    "    img_w, img_h = image.size\n",
    "    bg_w, bg_h = new_size\n",
    "    scale = min(bg_w/img_w, bg_h/img_h)\n",
    "    new_w = int(img_w * scale)\n",
    "    new_h = int(img_h * scale)\n",
    "    image = image.resize((new_w, new_h), Resampling.LANCZOS)\n",
    "    new_image = Image.new(\"RGB\", new_size, background_color)\n",
    "    new_image.paste(image, ((bg_w - new_w) // 2, (bg_h - new_h) // 2))\n",
    "    return new_image\n",
    "\n",
    "for filename in images_filenames:\n",
    "    try:\n",
    "        with Image.open(filename) as img:\n",
    "            img_with_bg = add_background(img, new_size)\n",
    "            img_array = np.array(img_with_bg)\n",
    "            images_for_gif.append(img_array)\n",
    "    except FileNotFoundError:\n",
    "        pass\n",
    "\n",
    "# Append the last frame 5 more times\n",
    "if images_for_gif:\n",
    "    last_frame = images_for_gif[-1]\n",
    "    for _ in range(10):\n",
    "        images_for_gif.append(last_frame)\n",
    "\n",
    "imageio.mimsave(f'{path}/output.gif', images_for_gif, duration=[1000]*len(images_for_gif), format='GIF', loop=0)\n",
    "print('GIF created!')\n"
   ]
  }
 ],
 "metadata": {
  "kernelspec": {
   "display_name": "venv",
   "language": "python",
   "name": "python3"
  },
  "language_info": {
   "codemirror_mode": {
    "name": "ipython",
    "version": 3
   },
   "file_extension": ".py",
   "mimetype": "text/x-python",
   "name": "python",
   "nbconvert_exporter": "python",
   "pygments_lexer": "ipython3",
   "version": "3.10.13"
  },
  "orig_nbformat": 4
 },
 "nbformat": 4,
 "nbformat_minor": 2
}
