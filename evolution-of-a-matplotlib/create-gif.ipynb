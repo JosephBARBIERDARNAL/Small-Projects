{
 "cells": [
  {
   "cell_type": "code",
   "execution_count": 6,
   "metadata": {},
   "outputs": [
    {
     "name": "stdout",
     "output_type": "stream",
     "text": [
      "gif-1.png\n",
      "gif-2.png\n",
      "gif-3.png\n",
      "gif-4.png\n",
      "gif-5.png\n",
      "gif-6.png\n",
      "gif-7.png\n",
      "gif-8.png\n",
      "gif-9.png\n",
      "gif-10.png\n",
      "gif-11.png\n",
      "gif-12.png\n",
      "22\n",
      "GIF created!\n"
     ]
    }
   ],
   "source": [
    "import numpy as np\n",
    "import imageio\n",
    "from PIL import Image\n",
    "\n",
    "images_filenames = ['gif-'+str(i)+'.png' for i in range(1, 20)]\n",
    "images_for_gif = []\n",
    "\n",
    "for filename in images_filenames:\n",
    "    try:\n",
    "        with Image.open(filename) as img:\n",
    "            img_array = np.array(img)\n",
    "            images_for_gif.append(img_array)\n",
    "    except FileNotFoundError:\n",
    "        pass\n",
    "\n",
    "import numpy as np\n",
    "import imageio\n",
    "from PIL import Image\n",
    "\n",
    "images_filenames = ['gif-'+str(i)+'.png' for i in range(1, 20)]\n",
    "images_for_gif = []\n",
    "\n",
    "for filename in images_filenames:\n",
    "    try:\n",
    "        with Image.open(filename) as img:\n",
    "            print(filename)\n",
    "            img_array = np.array(img)\n",
    "            images_for_gif.append(img_array)\n",
    "    except FileNotFoundError:\n",
    "        pass\n",
    "\n",
    "# Append the last frame 5 more times\n",
    "if images_for_gif:\n",
    "    last_frame = images_for_gif[-1]\n",
    "    for _ in range(10):\n",
    "        images_for_gif.append(last_frame)\n",
    "\n",
    "print(len(images_for_gif))\n",
    "imageio.mimsave('output.gif', images_for_gif, duration=1200, format='GIF', loop=20)\n",
    "print('GIF created!')"
   ]
  }
 ],
 "metadata": {
  "kernelspec": {
   "display_name": "venv",
   "language": "python",
   "name": "python3"
  },
  "language_info": {
   "codemirror_mode": {
    "name": "ipython",
    "version": 3
   },
   "file_extension": ".py",
   "mimetype": "text/x-python",
   "name": "python",
   "nbconvert_exporter": "python",
   "pygments_lexer": "ipython3",
   "version": "3.10.13"
  },
  "orig_nbformat": 4
 },
 "nbformat": 4,
 "nbformat_minor": 2
}
