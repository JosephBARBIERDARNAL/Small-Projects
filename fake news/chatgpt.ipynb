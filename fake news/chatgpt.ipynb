{
 "cells": [
  {
   "cell_type": "code",
   "execution_count": 6,
   "metadata": {},
   "outputs": [
    {
     "name": "stdout",
     "output_type": "stream",
     "text": [
      "The capital of France is Rome\n",
      "Model prediction: No\n",
      "\n",
      "The president of France is Donald Trump\n",
      "Model prediction: No\n",
      "\n",
      "The sky is blue\n",
      "Model prediction: Yes\n",
      "\n",
      "The earth is flat\n",
      "Model prediction: No\n",
      "\n",
      "The earth is round\n",
      "Model prediction: Yes\n",
      "\n",
      "Being happy is a good thing\n",
      "Model prediction: Yes\n",
      "\n"
     ]
    }
   ],
   "source": [
    "\n",
    "\n",
    "news = {\n",
    "    \"The capital of France is Rome\":False,\n",
    "    \"The president of France is Donald Trump\":False,\n",
    "    \"The sky is blue\":True,\n",
    "    \"The earth is flat\":False,\n",
    "    \"The earth is round\":True,\n",
    "    \"Being happy is a good thing\":True,\n",
    "}\n",
    "\n",
    "\n",
    "for prompt in news.keys():\n",
    "    print(prompt)\n",
    "    pred = call_gpt(client, prompt, pre_prompt)\n",
    "    pred_bool = True if pred == \"Yes\" else False\n",
    "    print(f\"Model prediction: {pred}\")\n",
    "    print()"
   ]
  }
 ],
 "metadata": {
  "kernelspec": {
   "display_name": "venv",
   "language": "python",
   "name": "python3"
  },
  "language_info": {
   "codemirror_mode": {
    "name": "ipython",
    "version": 3
   },
   "file_extension": ".py",
   "mimetype": "text/x-python",
   "name": "python",
   "nbconvert_exporter": "python",
   "pygments_lexer": "ipython3",
   "version": "3.10.13"
  },
  "orig_nbformat": 4
 },
 "nbformat": 4,
 "nbformat_minor": 2
}
