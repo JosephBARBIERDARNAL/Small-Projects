{
 "cells": [
  {
   "cell_type": "code",
   "execution_count": 3,
   "metadata": {},
   "outputs": [
    {
     "name": "stderr",
     "output_type": "stream",
     "text": [
      "/var/folders/m2/jfzxyg4s0xz3jyw5f94r7tcm0000gn/T/ipykernel_9036/2433295803.py:11: FutureWarning: The geopandas.dataset module is deprecated and will be removed in GeoPandas 1.0. You can get the original 'naturalearth_lowres' data from https://www.naturalearthdata.com/downloads/110m-cultural-vectors/.\n",
      "  world = gpd.read_file(gpd.datasets.get_path('naturalearth_lowres'))\n"
     ]
    }
   ],
   "source": [
    "import pandas as pd\n",
    "import geopandas as gpd\n",
    "import matplotlib.pyplot as plt\n",
    "from pypalettes import load_cmap\n",
    "from matplotlib.font_manager import FontProperties\n",
    "from matplotlib.patches import Patch\n",
    "from matplotlib.patches import FancyArrowPatch\n",
    "from highlight_text import fig_text, ax_text\n",
    "\n",
    "df = pd.read_csv('../country-co2/GCB2022v27_percapita_flat.csv')\n",
    "world = gpd.read_file(gpd.datasets.get_path('naturalearth_lowres'))\n",
    "world = world[world['continent'] == 'Europe']\n",
    "data = world.merge(df, how='left', left_on='name', right_on='Country')\n",
    "data = data[~data['Country'].isin(['Russia', 'Iceland'])]\n",
    "data = data[['Country', 'Total', 'geometry', 'Year']]\n",
    "data = data.dropna()\n",
    "data.columns = ['country', 'co2Capita', 'geometry', 'year']\n",
    "data.to_file('all_year.geojson', driver='GeoJSON')"
   ]
  }
 ],
 "metadata": {
  "kernelspec": {
   "display_name": "venv",
   "language": "python",
   "name": "python3"
  },
  "language_info": {
   "codemirror_mode": {
    "name": "ipython",
    "version": 3
   },
   "file_extension": ".py",
   "mimetype": "text/x-python",
   "name": "python",
   "nbconvert_exporter": "python",
   "pygments_lexer": "ipython3",
   "version": "3.10.13"
  }
 },
 "nbformat": 4,
 "nbformat_minor": 2
}
