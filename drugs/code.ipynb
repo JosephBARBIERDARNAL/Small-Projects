{
 "cells": [
  {
   "cell_type": "code",
   "execution_count": 2,
   "metadata": {},
   "outputs": [
    {
     "name": "stdout",
     "output_type": "stream",
     "text": [
      "(6960, 5)\n",
      "Index(['COUNTRY', 'Code', 'Year',\n",
      "       'Deaths - Drug use disorders - Sex: Both - Age: All Ages (Number)',\n",
      "       'Deaths that are from all causes attributed to drug use, in both sexes aged all ages'],\n",
      "      dtype='object')\n"
     ]
    },
    {
     "data": {
      "text/html": [
       "<div>\n",
       "<style scoped>\n",
       "    .dataframe tbody tr th:only-of-type {\n",
       "        vertical-align: middle;\n",
       "    }\n",
       "\n",
       "    .dataframe tbody tr th {\n",
       "        vertical-align: top;\n",
       "    }\n",
       "\n",
       "    .dataframe thead th {\n",
       "        text-align: right;\n",
       "    }\n",
       "</style>\n",
       "<table border=\"1\" class=\"dataframe\">\n",
       "  <thead>\n",
       "    <tr style=\"text-align: right;\">\n",
       "      <th></th>\n",
       "      <th>COUNTRY</th>\n",
       "      <th>Code</th>\n",
       "      <th>Year</th>\n",
       "      <th>Deaths - Drug use disorders - Sex: Both - Age: All Ages (Number)</th>\n",
       "      <th>Deaths that are from all causes attributed to drug use, in both sexes aged all ages</th>\n",
       "    </tr>\n",
       "  </thead>\n",
       "  <tbody>\n",
       "    <tr>\n",
       "      <th>0</th>\n",
       "      <td>American Samoa</td>\n",
       "      <td>ASM</td>\n",
       "      <td>1990</td>\n",
       "      <td>0</td>\n",
       "      <td>13.090.138</td>\n",
       "    </tr>\n",
       "    <tr>\n",
       "      <th>1</th>\n",
       "      <td>Andorra</td>\n",
       "      <td>AND</td>\n",
       "      <td>1990</td>\n",
       "      <td>0</td>\n",
       "      <td>20.659.685</td>\n",
       "    </tr>\n",
       "    <tr>\n",
       "      <th>2</th>\n",
       "      <td>Antigua and Barbuda</td>\n",
       "      <td>ATG</td>\n",
       "      <td>1990</td>\n",
       "      <td>0</td>\n",
       "      <td>6.584.844</td>\n",
       "    </tr>\n",
       "    <tr>\n",
       "      <th>3</th>\n",
       "      <td>Bahamas</td>\n",
       "      <td>BHS</td>\n",
       "      <td>1990</td>\n",
       "      <td>0</td>\n",
       "      <td>39.783.647</td>\n",
       "    </tr>\n",
       "    <tr>\n",
       "      <th>4</th>\n",
       "      <td>Barbados</td>\n",
       "      <td>BRB</td>\n",
       "      <td>1990</td>\n",
       "      <td>0</td>\n",
       "      <td>26.759.732</td>\n",
       "    </tr>\n",
       "  </tbody>\n",
       "</table>\n",
       "</div>"
      ],
      "text/plain": [
       "               COUNTRY Code  Year  \\\n",
       "0       American Samoa  ASM  1990   \n",
       "1              Andorra  AND  1990   \n",
       "2  Antigua and Barbuda  ATG  1990   \n",
       "3              Bahamas  BHS  1990   \n",
       "4             Barbados  BRB  1990   \n",
       "\n",
       "   Deaths - Drug use disorders - Sex: Both - Age: All Ages (Number)  \\\n",
       "0                                                  0                  \n",
       "1                                                  0                  \n",
       "2                                                  0                  \n",
       "3                                                  0                  \n",
       "4                                                  0                  \n",
       "\n",
       "  Deaths that are from all causes attributed to drug use, in both sexes aged all ages  \n",
       "0                                         13.090.138                                   \n",
       "1                                         20.659.685                                   \n",
       "2                                          6.584.844                                   \n",
       "3                                         39.783.647                                   \n",
       "4                                         26.759.732                                   "
      ]
     },
     "execution_count": 2,
     "metadata": {},
     "output_type": "execute_result"
    }
   ],
   "source": [
    "import pandas as pd\n",
    "import matplotlib.pyplot as plt\n",
    "\n",
    "df = pd.read_csv('deaths-illicit-drugs NEW.csv')\n",
    "print(df.shape)\n",
    "print(df.columns)\n",
    "df.head()"
   ]
  },
  {
   "cell_type": "code",
   "execution_count": 3,
   "metadata": {},
   "outputs": [
    {
     "data": {
      "text/plain": [
       "Code\n",
       "0           810\n",
       "ASM          30\n",
       "LBY          30\n",
       "CZE          30\n",
       "HND          30\n",
       "           ... \n",
       "TGO          30\n",
       "ALB          30\n",
       "ARM          30\n",
       "BEN          30\n",
       "OWID_WRL     30\n",
       "Name: count, Length: 206, dtype: int64"
      ]
     },
     "execution_count": 3,
     "metadata": {},
     "output_type": "execute_result"
    }
   ],
   "source": [
    "df.Code.value_counts()"
   ]
  }
 ],
 "metadata": {
  "kernelspec": {
   "display_name": "venv",
   "language": "python",
   "name": "python3"
  },
  "language_info": {
   "codemirror_mode": {
    "name": "ipython",
    "version": 3
   },
   "file_extension": ".py",
   "mimetype": "text/x-python",
   "name": "python",
   "nbconvert_exporter": "python",
   "pygments_lexer": "ipython3",
   "version": "3.10.13"
  },
  "orig_nbformat": 4
 },
 "nbformat": 4,
 "nbformat_minor": 2
}
