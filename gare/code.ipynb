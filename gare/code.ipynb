{
 "cells": [
  {
   "cell_type": "code",
   "execution_count": 1,
   "metadata": {},
   "outputs": [
    {
     "name": "stdout",
     "output_type": "stream",
     "text": [
      "Carte des gares de France sauvegardée dans map_gares_france.html\n"
     ]
    }
   ],
   "source": [
    "import pandas as pd\n",
    "import folium\n",
    "\n",
    "df = pd.read_csv('liste-des-gares.csv', sep=';', decimal=',')\n",
    "map_gares = folium.Map(location=[46.2276, 2.2137], zoom_start=6)\n",
    "\n",
    "for idx, row in df.iterrows():\n",
    "    folium.Marker(\n",
    "        location=[row['y_wgs84'], row['x_wgs84']],\n",
    "        popup=row['libelle'],\n",
    "        icon=folium.Icon(icon='train', prefix='fa')\n",
    "    ).add_to(map_gares)\n",
    "\n",
    "map_file_path = 'map_gares_france.html'\n",
    "map_gares.save(map_file_path)\n",
    "print(f'Carte des gares de France sauvegardée dans {map_file_path}')"
   ]
  }
 ],
 "metadata": {
  "kernelspec": {
   "display_name": "venv",
   "language": "python",
   "name": "python3"
  },
  "language_info": {
   "codemirror_mode": {
    "name": "ipython",
    "version": 3
   },
   "file_extension": ".py",
   "mimetype": "text/x-python",
   "name": "python",
   "nbconvert_exporter": "python",
   "pygments_lexer": "ipython3",
   "version": "3.10.13"
  },
  "orig_nbformat": 4
 },
 "nbformat": 4,
 "nbformat_minor": 2
}
